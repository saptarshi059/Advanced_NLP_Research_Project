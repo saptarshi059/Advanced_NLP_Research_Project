{
 "cells": [
  {
   "cell_type": "code",
   "execution_count": 1,
   "metadata": {},
   "outputs": [],
   "source": [
    "#To convert notebook to py file: ipynb-py-convert classification.ipynb classification.py\n",
    "\n",
    "import torch\n",
    "import pandas as pd\n",
    "import numpy as np\n",
    "from collections import Counter\n",
    "from sklearn.feature_extraction.text import TfidfVectorizer\n",
    "from sklearn.dummy import DummyClassifier\n",
    "import spacy\n",
    "from torch.autograd import Variable\n",
    "from tqdm import tqdm\n",
    "\n",
    "#Loading the core English Model.\n",
    "#sp = spacy.load(\"en_core_web_sm\")"
   ]
  },
  {
   "cell_type": "code",
   "execution_count": 2,
   "metadata": {},
   "outputs": [],
   "source": [
    "'''\n",
    "def spacy_tokenizer(sentence):\n",
    "  sent = sp(sentence)\n",
    "  tokens = []\n",
    "  for token in sent:\n",
    "      tokens.append(token.text)\n",
    "  return tokens\n",
    "'''\n",
    "\n",
    "def TFIDF(data):\n",
    "    vectorizer_x = TfidfVectorizer(max_features=2000)\n",
    "    Data_TDM = vectorizer_x.fit_transform(data).toarray()\n",
    "    return Data_TDM"
   ]
  },
  {
   "cell_type": "code",
   "execution_count": 3,
   "metadata": {},
   "outputs": [],
   "source": [
    "train_df = pd.read_csv('train_custom.csv')\n",
    "test_df = pd.read_csv('test_custom.csv')"
   ]
  },
  {
   "cell_type": "code",
   "execution_count": 4,
   "metadata": {},
   "outputs": [
    {
     "name": "stdout",
     "output_type": "stream",
     "text": [
      "Majority Classification Baseline = 19.459053343350863 %\n"
     ]
    }
   ],
   "source": [
    "#Majority Classifier Baseline\n",
    "\n",
    "dummy_clf = DummyClassifier(strategy='most_frequent', random_state=0)\n",
    "dummy_clf.fit(train_df['conversation'], train_df['category'])\n",
    "print(f\"Majority Classification Baseline = {dummy_clf.score(test_df['conversation'],test_df['category']) * 100} %\")"
   ]
  },
  {
   "cell_type": "code",
   "execution_count": 5,
   "metadata": {},
   "outputs": [
    {
     "name": "stdout",
     "output_type": "stream",
     "text": [
      "(14, 2000)\n",
      "(1331, 2000)\n"
     ]
    }
   ],
   "source": [
    "X_train, X_test = TFIDF(train_df['conversation']), TFIDF(test_df['conversation'])\n",
    "Y_train, Y_test = train_df['category'], test_df['category']\n",
    "\n",
    "print(X_train.shape)\n",
    "print(X_test.shape)"
   ]
  },
  {
   "cell_type": "code",
   "execution_count": 6,
   "metadata": {},
   "outputs": [
    {
     "name": "stdout",
     "output_type": "stream",
     "text": [
      "ClassifierNet(\n",
      "  (layer_1): Linear(in_features=2000, out_features=100, bias=True)\n",
      "  (relu): ReLU()\n",
      "  (layer_2): Linear(in_features=100, out_features=100, bias=True)\n",
      "  (output_layer): Linear(in_features=100, out_features=6, bias=True)\n",
      ")\n"
     ]
    }
   ],
   "source": [
    "class ClassifierNet(torch.nn.Module):\n",
    "     def __init__(self, input_size, hidden_size, num_classes):\n",
    "        super().__init__()\n",
    "        self.layer_1 = torch.nn.Linear(input_size,hidden_size, bias=True)\n",
    "        self.relu = torch.nn.ReLU()\n",
    "        self.layer_2 = torch.nn.Linear(hidden_size, hidden_size, bias=True)\n",
    "        self.output_layer = torch.nn.Linear(hidden_size, num_classes, bias=True)\n",
    "        #self.softmax = torch.nn.Softmax(dim=1)\n",
    "\n",
    "     def forward(self, x):\n",
    "        out = self.layer_1(x)\n",
    "        out = self.relu(out)\n",
    "        out = self.layer_2(out)\n",
    "        out = self.relu(out)\n",
    "        out = self.output_layer(out)\n",
    "        return out\n",
    "\n",
    "input_size =  X_train.shape[1] #THE INPUT TO THE NN SHOULD ALWAYS BE THE DIMENSION OF THE FEATURE VECTORS!!\n",
    "hidden_size = 100\n",
    "num_classes = 6\n",
    "learning_rate = 0.01\n",
    "num_epochs = 10\n",
    "\n",
    "device = (\"cuda:0\" if torch.cuda.is_available() else \"cpu\")\n",
    "\n",
    "net = ClassifierNet(input_size, hidden_size, num_classes)\n",
    "net.to(device)\n",
    "\n",
    "criterion = torch.nn.CrossEntropyLoss()  \n",
    "criterion.to(device)\n",
    "\n",
    "optimizer = torch.optim.Adam(net.parameters(), lr=learning_rate)\n",
    "\n",
    "print(net)"
   ]
  },
  {
   "cell_type": "code",
   "execution_count": 7,
   "metadata": {},
   "outputs": [
    {
     "name": "stderr",
     "output_type": "stream",
     "text": [
      "100%|██████████| 10/10 [00:00<00:00, 27.50it/s]"
     ]
    },
    {
     "name": "stdout",
     "output_type": "stream",
     "text": [
      "Epoch: 0 | Training Loss: 1.8412648439407349 \n",
      "Epoch: 1 | Training Loss: 1.7636734247207642 \n",
      "Epoch: 2 | Training Loss: 1.632741928100586 \n",
      "Epoch: 3 | Training Loss: 1.402321457862854 \n",
      "Epoch: 4 | Training Loss: 1.074174165725708 \n",
      "Epoch: 5 | Training Loss: 0.7359715700149536 \n",
      "Epoch: 6 | Training Loss: 0.4885139465332031 \n",
      "Epoch: 7 | Training Loss: 0.31281206011772156 \n",
      "Epoch: 8 | Training Loss: 0.19671079516410828 \n",
      "Epoch: 9 | Training Loss: 0.12075690925121307 \n"
     ]
    },
    {
     "name": "stderr",
     "output_type": "stream",
     "text": [
      "\n"
     ]
    }
   ],
   "source": [
    "net.train()\n",
    "\n",
    "for epoch in tqdm(range(num_epochs)):\n",
    "    optimizer.zero_grad()  # zero the gradient buffer\n",
    "    \n",
    "    articles = Variable(torch.from_numpy(np.asarray(X_train)).float())\n",
    "    \n",
    "    labels = Variable(torch.from_numpy(np.asarray(Y_train)))\n",
    "    \n",
    "    outputs = net(articles.to(device))\n",
    "    \n",
    "    loss = criterion(outputs.to(device), labels.to(device))\n",
    "    \n",
    "    loss.backward()\n",
    "    optimizer.step()\n",
    "\n",
    "    print(f'Epoch: {epoch} | Training Loss: {loss.item()} ')"
   ]
  },
  {
   "cell_type": "code",
   "execution_count": 10,
   "metadata": {},
   "outputs": [
    {
     "name": "stdout",
     "output_type": "stream",
     "text": [
      "tensor([4, 4, 4,  ..., 5, 5, 2])\n",
      "tensor([5, 4, 2,  ..., 5, 5, 5])\n",
      "Accuracy of the network on the 1331 test articles: 26 %\n"
     ]
    }
   ],
   "source": [
    "# Test the Model\n",
    "net.eval()\n",
    "\n",
    "correct = 0\n",
    "total = len(test_df)\n",
    "\n",
    "articles = Variable(torch.from_numpy(np.asarray(X_test)).float())\n",
    "labels = Variable(torch.from_numpy(np.asarray(Y_test)))\n",
    "\n",
    "outputs = net(articles.to(device))\n",
    "\n",
    "_, predicted = torch.max(outputs.data, 1)\n",
    "\n",
    "correct = (predicted == labels).sum()\n",
    "\n",
    "print(f'Accuracy of the network on the {total} test articles: {100 * correct / total} %')"
   ]
  }
 ],
 "metadata": {
  "kernelspec": {
   "display_name": "Python 3",
   "language": "python",
   "name": "python3"
  },
  "language_info": {
   "codemirror_mode": {
    "name": "ipython",
    "version": 3
   },
   "file_extension": ".py",
   "mimetype": "text/x-python",
   "name": "python",
   "nbconvert_exporter": "python",
   "pygments_lexer": "ipython3",
   "version": "3.7.5"
  }
 },
 "nbformat": 4,
 "nbformat_minor": 4
}
